{
 "cells": [
  {
   "cell_type": "code",
   "execution_count": 1,
   "id": "497695f0",
   "metadata": {},
   "outputs": [],
   "source": [
    "import altair as alt\n",
    "import seaborn as sns\n",
    "import numpy as np\n",
    "import pandas as pd\n",
    "from sklearn.cluster import KMeans\n",
    "import matplotlib.pyplot as plt\n",
    "from sklearn.preprocessing import MinMaxScaler"
   ]
  },
  {
   "cell_type": "code",
   "execution_count": 2,
   "id": "7124ecab",
   "metadata": {},
   "outputs": [
    {
     "data": {
      "text/html": [
       "<div>\n",
       "<style scoped>\n",
       "    .dataframe tbody tr th:only-of-type {\n",
       "        vertical-align: middle;\n",
       "    }\n",
       "\n",
       "    .dataframe tbody tr th {\n",
       "        vertical-align: top;\n",
       "    }\n",
       "\n",
       "    .dataframe thead th {\n",
       "        text-align: right;\n",
       "    }\n",
       "</style>\n",
       "<table border=\"1\" class=\"dataframe\">\n",
       "  <thead>\n",
       "    <tr style=\"text-align: right;\">\n",
       "      <th></th>\n",
       "      <th>Warehouse_block</th>\n",
       "      <th>Mode_of_Shipment</th>\n",
       "      <th>Customer_care_calls</th>\n",
       "      <th>Customer_rating</th>\n",
       "      <th>Cost_of_the_Product</th>\n",
       "      <th>Prior_purchases</th>\n",
       "      <th>Product_importance</th>\n",
       "      <th>Gender</th>\n",
       "      <th>Discount_offered</th>\n",
       "      <th>Weight_in_gms</th>\n",
       "      <th>Reached.on.Time_Y.N</th>\n",
       "    </tr>\n",
       "    <tr>\n",
       "      <th>ID</th>\n",
       "      <th></th>\n",
       "      <th></th>\n",
       "      <th></th>\n",
       "      <th></th>\n",
       "      <th></th>\n",
       "      <th></th>\n",
       "      <th></th>\n",
       "      <th></th>\n",
       "      <th></th>\n",
       "      <th></th>\n",
       "      <th></th>\n",
       "    </tr>\n",
       "  </thead>\n",
       "  <tbody>\n",
       "    <tr>\n",
       "      <th>1</th>\n",
       "      <td>D</td>\n",
       "      <td>Flight</td>\n",
       "      <td>4</td>\n",
       "      <td>2</td>\n",
       "      <td>177</td>\n",
       "      <td>3</td>\n",
       "      <td>low</td>\n",
       "      <td>F</td>\n",
       "      <td>44</td>\n",
       "      <td>1233</td>\n",
       "      <td>1</td>\n",
       "    </tr>\n",
       "    <tr>\n",
       "      <th>2</th>\n",
       "      <td>F</td>\n",
       "      <td>Flight</td>\n",
       "      <td>4</td>\n",
       "      <td>5</td>\n",
       "      <td>216</td>\n",
       "      <td>2</td>\n",
       "      <td>low</td>\n",
       "      <td>M</td>\n",
       "      <td>59</td>\n",
       "      <td>3088</td>\n",
       "      <td>1</td>\n",
       "    </tr>\n",
       "    <tr>\n",
       "      <th>3</th>\n",
       "      <td>A</td>\n",
       "      <td>Flight</td>\n",
       "      <td>2</td>\n",
       "      <td>2</td>\n",
       "      <td>183</td>\n",
       "      <td>4</td>\n",
       "      <td>low</td>\n",
       "      <td>M</td>\n",
       "      <td>48</td>\n",
       "      <td>3374</td>\n",
       "      <td>1</td>\n",
       "    </tr>\n",
       "    <tr>\n",
       "      <th>4</th>\n",
       "      <td>B</td>\n",
       "      <td>Flight</td>\n",
       "      <td>3</td>\n",
       "      <td>3</td>\n",
       "      <td>176</td>\n",
       "      <td>4</td>\n",
       "      <td>medium</td>\n",
       "      <td>M</td>\n",
       "      <td>10</td>\n",
       "      <td>1177</td>\n",
       "      <td>1</td>\n",
       "    </tr>\n",
       "    <tr>\n",
       "      <th>5</th>\n",
       "      <td>C</td>\n",
       "      <td>Flight</td>\n",
       "      <td>2</td>\n",
       "      <td>2</td>\n",
       "      <td>184</td>\n",
       "      <td>3</td>\n",
       "      <td>medium</td>\n",
       "      <td>F</td>\n",
       "      <td>46</td>\n",
       "      <td>2484</td>\n",
       "      <td>1</td>\n",
       "    </tr>\n",
       "  </tbody>\n",
       "</table>\n",
       "</div>"
      ],
      "text/plain": [
       "   Warehouse_block Mode_of_Shipment  Customer_care_calls  Customer_rating  \\\n",
       "ID                                                                          \n",
       "1                D           Flight                    4                2   \n",
       "2                F           Flight                    4                5   \n",
       "3                A           Flight                    2                2   \n",
       "4                B           Flight                    3                3   \n",
       "5                C           Flight                    2                2   \n",
       "\n",
       "    Cost_of_the_Product  Prior_purchases Product_importance Gender  \\\n",
       "ID                                                                   \n",
       "1                   177                3                low      F   \n",
       "2                   216                2                low      M   \n",
       "3                   183                4                low      M   \n",
       "4                   176                4             medium      M   \n",
       "5                   184                3             medium      F   \n",
       "\n",
       "    Discount_offered  Weight_in_gms  Reached.on.Time_Y.N  \n",
       "ID                                                        \n",
       "1                 44           1233                    1  \n",
       "2                 59           3088                    1  \n",
       "3                 48           3374                    1  \n",
       "4                 10           1177                    1  \n",
       "5                 46           2484                    1  "
      ]
     },
     "execution_count": 2,
     "metadata": {},
     "output_type": "execute_result"
    }
   ],
   "source": [
    "df = pd.read_csv('Train.csv', index_col='ID')\n",
    "df.head()"
   ]
  },
  {
   "cell_type": "markdown",
   "id": "6cc2df48",
   "metadata": {},
   "source": [
    "Dataset Information:"
   ]
  },
  {
   "cell_type": "code",
   "execution_count": 3,
   "id": "ebcdf725",
   "metadata": {},
   "outputs": [
    {
     "name": "stdout",
     "output_type": "stream",
     "text": [
      "<class 'pandas.core.frame.DataFrame'>\n",
      "Int64Index: 10999 entries, 1 to 10999\n",
      "Data columns (total 11 columns):\n",
      " #   Column               Non-Null Count  Dtype \n",
      "---  ------               --------------  ----- \n",
      " 0   Warehouse_block      10999 non-null  object\n",
      " 1   Mode_of_Shipment     10999 non-null  object\n",
      " 2   Customer_care_calls  10999 non-null  int64 \n",
      " 3   Customer_rating      10999 non-null  int64 \n",
      " 4   Cost_of_the_Product  10999 non-null  int64 \n",
      " 5   Prior_purchases      10999 non-null  int64 \n",
      " 6   Product_importance   10999 non-null  object\n",
      " 7   Gender               10999 non-null  object\n",
      " 8   Discount_offered     10999 non-null  int64 \n",
      " 9   Weight_in_gms        10999 non-null  int64 \n",
      " 10  Reached.on.Time_Y.N  10999 non-null  int64 \n",
      "dtypes: int64(7), object(4)\n",
      "memory usage: 1.0+ MB\n"
     ]
    }
   ],
   "source": [
    "df.info()"
   ]
  },
  {
   "cell_type": "markdown",
   "id": "67195fef",
   "metadata": {},
   "source": [
    "Finding out the Null Values:"
   ]
  },
  {
   "cell_type": "code",
   "execution_count": 4,
   "id": "6c6e2f0d",
   "metadata": {},
   "outputs": [
    {
     "data": {
      "text/plain": [
       "Warehouse_block        0\n",
       "Mode_of_Shipment       0\n",
       "Customer_care_calls    0\n",
       "Customer_rating        0\n",
       "Cost_of_the_Product    0\n",
       "Prior_purchases        0\n",
       "Product_importance     0\n",
       "Gender                 0\n",
       "Discount_offered       0\n",
       "Weight_in_gms          0\n",
       "Reached.on.Time_Y.N    0\n",
       "dtype: int64"
      ]
     },
     "execution_count": 4,
     "metadata": {},
     "output_type": "execute_result"
    }
   ],
   "source": [
    "df.isna().sum()"
   ]
  },
  {
   "cell_type": "markdown",
   "id": "627f4c50",
   "metadata": {},
   "source": [
    "Encoding the categorical variables"
   ]
  },
  {
   "cell_type": "code",
   "execution_count": 5,
   "id": "b021927a",
   "metadata": {},
   "outputs": [],
   "source": [
    "from sklearn.preprocessing import LabelEncoder\n",
    "\n",
    "Label_enc = LabelEncoder()\n",
    "\n",
    "for col in df.columns:\n",
    "    if df[col].dtype == 'object':\n",
    "        df[col] = Label_enc.fit_transform(df[col])"
   ]
  },
  {
   "cell_type": "code",
   "execution_count": 6,
   "id": "efa6d886",
   "metadata": {},
   "outputs": [
    {
     "data": {
      "text/html": [
       "<div>\n",
       "<style scoped>\n",
       "    .dataframe tbody tr th:only-of-type {\n",
       "        vertical-align: middle;\n",
       "    }\n",
       "\n",
       "    .dataframe tbody tr th {\n",
       "        vertical-align: top;\n",
       "    }\n",
       "\n",
       "    .dataframe thead th {\n",
       "        text-align: right;\n",
       "    }\n",
       "</style>\n",
       "<table border=\"1\" class=\"dataframe\">\n",
       "  <thead>\n",
       "    <tr style=\"text-align: right;\">\n",
       "      <th></th>\n",
       "      <th>Warehouse_block</th>\n",
       "      <th>Mode_of_Shipment</th>\n",
       "      <th>Customer_care_calls</th>\n",
       "      <th>Customer_rating</th>\n",
       "      <th>Cost_of_the_Product</th>\n",
       "      <th>Prior_purchases</th>\n",
       "      <th>Product_importance</th>\n",
       "      <th>Discount_offered</th>\n",
       "      <th>Weight_in_gms</th>\n",
       "      <th>Reached.on.Time_Y.N</th>\n",
       "    </tr>\n",
       "    <tr>\n",
       "      <th>ID</th>\n",
       "      <th></th>\n",
       "      <th></th>\n",
       "      <th></th>\n",
       "      <th></th>\n",
       "      <th></th>\n",
       "      <th></th>\n",
       "      <th></th>\n",
       "      <th></th>\n",
       "      <th></th>\n",
       "      <th></th>\n",
       "    </tr>\n",
       "  </thead>\n",
       "  <tbody>\n",
       "    <tr>\n",
       "      <th>1</th>\n",
       "      <td>3</td>\n",
       "      <td>0</td>\n",
       "      <td>4</td>\n",
       "      <td>2</td>\n",
       "      <td>177</td>\n",
       "      <td>3</td>\n",
       "      <td>1</td>\n",
       "      <td>44</td>\n",
       "      <td>1233</td>\n",
       "      <td>1</td>\n",
       "    </tr>\n",
       "    <tr>\n",
       "      <th>2</th>\n",
       "      <td>4</td>\n",
       "      <td>0</td>\n",
       "      <td>4</td>\n",
       "      <td>5</td>\n",
       "      <td>216</td>\n",
       "      <td>2</td>\n",
       "      <td>1</td>\n",
       "      <td>59</td>\n",
       "      <td>3088</td>\n",
       "      <td>1</td>\n",
       "    </tr>\n",
       "    <tr>\n",
       "      <th>3</th>\n",
       "      <td>0</td>\n",
       "      <td>0</td>\n",
       "      <td>2</td>\n",
       "      <td>2</td>\n",
       "      <td>183</td>\n",
       "      <td>4</td>\n",
       "      <td>1</td>\n",
       "      <td>48</td>\n",
       "      <td>3374</td>\n",
       "      <td>1</td>\n",
       "    </tr>\n",
       "    <tr>\n",
       "      <th>4</th>\n",
       "      <td>1</td>\n",
       "      <td>0</td>\n",
       "      <td>3</td>\n",
       "      <td>3</td>\n",
       "      <td>176</td>\n",
       "      <td>4</td>\n",
       "      <td>2</td>\n",
       "      <td>10</td>\n",
       "      <td>1177</td>\n",
       "      <td>1</td>\n",
       "    </tr>\n",
       "    <tr>\n",
       "      <th>5</th>\n",
       "      <td>2</td>\n",
       "      <td>0</td>\n",
       "      <td>2</td>\n",
       "      <td>2</td>\n",
       "      <td>184</td>\n",
       "      <td>3</td>\n",
       "      <td>2</td>\n",
       "      <td>46</td>\n",
       "      <td>2484</td>\n",
       "      <td>1</td>\n",
       "    </tr>\n",
       "  </tbody>\n",
       "</table>\n",
       "</div>"
      ],
      "text/plain": [
       "    Warehouse_block  Mode_of_Shipment  Customer_care_calls  Customer_rating  \\\n",
       "ID                                                                            \n",
       "1                 3                 0                    4                2   \n",
       "2                 4                 0                    4                5   \n",
       "3                 0                 0                    2                2   \n",
       "4                 1                 0                    3                3   \n",
       "5                 2                 0                    2                2   \n",
       "\n",
       "    Cost_of_the_Product  Prior_purchases  Product_importance  \\\n",
       "ID                                                             \n",
       "1                   177                3                   1   \n",
       "2                   216                2                   1   \n",
       "3                   183                4                   1   \n",
       "4                   176                4                   2   \n",
       "5                   184                3                   2   \n",
       "\n",
       "    Discount_offered  Weight_in_gms  Reached.on.Time_Y.N  \n",
       "ID                                                        \n",
       "1                 44           1233                    1  \n",
       "2                 59           3088                    1  \n",
       "3                 48           3374                    1  \n",
       "4                 10           1177                    1  \n",
       "5                 46           2484                    1  "
      ]
     },
     "execution_count": 6,
     "metadata": {},
     "output_type": "execute_result"
    }
   ],
   "source": [
    "df = df.drop(['Gender'], axis=1 )\n",
    "df.head()"
   ]
  },
  {
   "cell_type": "markdown",
   "id": "91828f58",
   "metadata": {},
   "source": [
    "\n",
    "Defining the X and Y attributes\n"
   ]
  },
  {
   "cell_type": "code",
   "execution_count": 7,
   "id": "f6f9d3df",
   "metadata": {},
   "outputs": [
    {
     "data": {
      "text/plain": [
       "pandas.core.series.Series"
      ]
     },
     "execution_count": 7,
     "metadata": {},
     "output_type": "execute_result"
    }
   ],
   "source": [
    "True_val_Reached_on_T = df['Reached.on.Time_Y.N'].value_counts()\n",
    "type(True_val_Reached_on_T)\n"
   ]
  },
  {
   "cell_type": "code",
   "execution_count": 8,
   "id": "9cdafe53",
   "metadata": {},
   "outputs": [],
   "source": [
    "X_attribute = df.drop(['Reached.on.Time_Y.N'], axis=1)\n",
    "y_attribute = df['Reached.on.Time_Y.N']"
   ]
  },
  {
   "cell_type": "markdown",
   "id": "e535986d",
   "metadata": {},
   "source": [
    "We use StandardScaler to scale the data to a uniform usabale form"
   ]
  },
  {
   "cell_type": "code",
   "execution_count": 9,
   "id": "f625bc55",
   "metadata": {},
   "outputs": [
    {
     "name": "stdout",
     "output_type": "stream",
     "text": [
      "       Warehouse_block  Mode_of_Shipment  Customer_care_calls  \\\n",
      "0             0.447189         -2.004158            -0.047711   \n",
      "1             1.118034         -2.004158            -0.047711   \n",
      "2            -1.565345         -2.004158            -1.799887   \n",
      "3            -0.894500         -2.004158            -0.923799   \n",
      "4            -0.223656         -2.004158            -1.799887   \n",
      "...                ...               ...                  ...   \n",
      "10994        -1.565345          0.638342            -0.047711   \n",
      "10995        -0.894500          0.638342            -0.047711   \n",
      "10996        -0.223656          0.638342             0.828377   \n",
      "10997         1.118034          0.638342             0.828377   \n",
      "10998         0.447189          0.638342            -1.799887   \n",
      "\n",
      "       Customer_rating  Cost_of_the_Product  Prior_purchases  \\\n",
      "0            -0.700755            -0.690722        -0.372735   \n",
      "1             1.421578             0.120746        -1.029424   \n",
      "2            -0.700755            -0.565881         0.283954   \n",
      "3             0.006689            -0.711529         0.283954   \n",
      "4            -0.700755            -0.545074        -0.372735   \n",
      "...                ...                  ...              ...   \n",
      "10994        -1.408199             0.869792         0.940643   \n",
      "10995        -1.408199             0.453655         0.940643   \n",
      "10996         0.714133             0.661724         0.940643   \n",
      "10997        -0.700755             0.266394         1.597332   \n",
      "10998         1.421578            -1.148472         0.940643   \n",
      "\n",
      "       Product_importance  Discount_offered  Weight_in_gms  \n",
      "0               -0.548034          1.889983      -1.468240  \n",
      "1               -0.548034          2.815636      -0.333893  \n",
      "2               -0.548034          2.136824      -0.159002  \n",
      "3                1.035735         -0.208162      -1.502484  \n",
      "4                1.035735          2.013404      -0.703244  \n",
      "...                   ...               ...            ...  \n",
      "10994            1.035735         -0.763553      -1.281730  \n",
      "10995            1.035735         -0.455002      -1.459679  \n",
      "10996           -0.548034         -0.578423      -1.515937  \n",
      "10997            1.035735         -0.701843      -1.482304  \n",
      "10998           -0.548034         -0.455002      -1.219968  \n",
      "\n",
      "[10999 rows x 9 columns]\n"
     ]
    }
   ],
   "source": [
    "from sklearn.preprocessing import StandardScaler\n",
    "\n",
    "scaler = StandardScaler()\n",
    "X_scaled = pd.DataFrame(scaler.fit_transform(X_attribute), columns=X_attribute.columns)\n",
    "print(X_scaled)"
   ]
  },
  {
   "cell_type": "code",
   "execution_count": 10,
   "id": "73ecc5aa",
   "metadata": {},
   "outputs": [
    {
     "data": {
      "text/html": [
       "<div>\n",
       "<style scoped>\n",
       "    .dataframe tbody tr th:only-of-type {\n",
       "        vertical-align: middle;\n",
       "    }\n",
       "\n",
       "    .dataframe tbody tr th {\n",
       "        vertical-align: top;\n",
       "    }\n",
       "\n",
       "    .dataframe thead th {\n",
       "        text-align: right;\n",
       "    }\n",
       "</style>\n",
       "<table border=\"1\" class=\"dataframe\">\n",
       "  <thead>\n",
       "    <tr style=\"text-align: right;\">\n",
       "      <th></th>\n",
       "      <th>Warehouse_block</th>\n",
       "      <th>Mode_of_Shipment</th>\n",
       "      <th>Customer_care_calls</th>\n",
       "      <th>Customer_rating</th>\n",
       "      <th>Cost_of_the_Product</th>\n",
       "      <th>Prior_purchases</th>\n",
       "      <th>Product_importance</th>\n",
       "      <th>Discount_offered</th>\n",
       "      <th>Weight_in_gms</th>\n",
       "    </tr>\n",
       "  </thead>\n",
       "  <tbody>\n",
       "    <tr>\n",
       "      <th>0</th>\n",
       "      <td>0.447189</td>\n",
       "      <td>-2.004158</td>\n",
       "      <td>-0.047711</td>\n",
       "      <td>-0.700755</td>\n",
       "      <td>-0.690722</td>\n",
       "      <td>-0.372735</td>\n",
       "      <td>-0.548034</td>\n",
       "      <td>1.889983</td>\n",
       "      <td>-1.468240</td>\n",
       "    </tr>\n",
       "    <tr>\n",
       "      <th>1</th>\n",
       "      <td>1.118034</td>\n",
       "      <td>-2.004158</td>\n",
       "      <td>-0.047711</td>\n",
       "      <td>1.421578</td>\n",
       "      <td>0.120746</td>\n",
       "      <td>-1.029424</td>\n",
       "      <td>-0.548034</td>\n",
       "      <td>2.815636</td>\n",
       "      <td>-0.333893</td>\n",
       "    </tr>\n",
       "    <tr>\n",
       "      <th>2</th>\n",
       "      <td>-1.565345</td>\n",
       "      <td>-2.004158</td>\n",
       "      <td>-1.799887</td>\n",
       "      <td>-0.700755</td>\n",
       "      <td>-0.565881</td>\n",
       "      <td>0.283954</td>\n",
       "      <td>-0.548034</td>\n",
       "      <td>2.136824</td>\n",
       "      <td>-0.159002</td>\n",
       "    </tr>\n",
       "    <tr>\n",
       "      <th>3</th>\n",
       "      <td>-0.894500</td>\n",
       "      <td>-2.004158</td>\n",
       "      <td>-0.923799</td>\n",
       "      <td>0.006689</td>\n",
       "      <td>-0.711529</td>\n",
       "      <td>0.283954</td>\n",
       "      <td>1.035735</td>\n",
       "      <td>-0.208162</td>\n",
       "      <td>-1.502484</td>\n",
       "    </tr>\n",
       "    <tr>\n",
       "      <th>4</th>\n",
       "      <td>-0.223656</td>\n",
       "      <td>-2.004158</td>\n",
       "      <td>-1.799887</td>\n",
       "      <td>-0.700755</td>\n",
       "      <td>-0.545074</td>\n",
       "      <td>-0.372735</td>\n",
       "      <td>1.035735</td>\n",
       "      <td>2.013404</td>\n",
       "      <td>-0.703244</td>\n",
       "    </tr>\n",
       "  </tbody>\n",
       "</table>\n",
       "</div>"
      ],
      "text/plain": [
       "   Warehouse_block  Mode_of_Shipment  Customer_care_calls  Customer_rating  \\\n",
       "0         0.447189         -2.004158            -0.047711        -0.700755   \n",
       "1         1.118034         -2.004158            -0.047711         1.421578   \n",
       "2        -1.565345         -2.004158            -1.799887        -0.700755   \n",
       "3        -0.894500         -2.004158            -0.923799         0.006689   \n",
       "4        -0.223656         -2.004158            -1.799887        -0.700755   \n",
       "\n",
       "   Cost_of_the_Product  Prior_purchases  Product_importance  Discount_offered  \\\n",
       "0            -0.690722        -0.372735           -0.548034          1.889983   \n",
       "1             0.120746        -1.029424           -0.548034          2.815636   \n",
       "2            -0.565881         0.283954           -0.548034          2.136824   \n",
       "3            -0.711529         0.283954            1.035735         -0.208162   \n",
       "4            -0.545074        -0.372735            1.035735          2.013404   \n",
       "\n",
       "   Weight_in_gms  \n",
       "0      -1.468240  \n",
       "1      -0.333893  \n",
       "2      -0.159002  \n",
       "3      -1.502484  \n",
       "4      -0.703244  "
      ]
     },
     "execution_count": 10,
     "metadata": {},
     "output_type": "execute_result"
    }
   ],
   "source": [
    "X = X_scaled\n",
    "X.head()"
   ]
  },
  {
   "cell_type": "code",
   "execution_count": 11,
   "id": "24623120",
   "metadata": {},
   "outputs": [],
   "source": [
    "\n",
    "from sklearn.utils import class_weight\n",
    "from sklearn.ensemble import GradientBoostingClassifier\n",
    "from sklearn.metrics import accuracy_score\n",
    "from sklearn.model_selection import train_test_split\n",
    "\n",
    "\n",
    "\n",
    "X_train, X_test, y_train, y_test = train_test_split(X_attribute, y_attribute, test_size=0.2, random_state=42)\n",
    "\n",
    "weights_for_class = class_weight.compute_class_weight('balanced', \n",
    "                                                  classes=np.unique(y_train), \n",
    "                                                  y=y_train)\n",
    "\n",
    "dict_for_class_weight = dict(enumerate(weights_for_class))"
   ]
  },
  {
   "cell_type": "code",
   "execution_count": 12,
   "id": "fbc6aa7d",
   "metadata": {},
   "outputs": [
    {
     "name": "stdout",
     "output_type": "stream",
     "text": [
      "{0: 1.2424456368257555, 1: 0.8367249904906808}\n"
     ]
    }
   ],
   "source": [
    "print(dict_for_class_weight)"
   ]
  },
  {
   "cell_type": "markdown",
   "id": "c4d06b12",
   "metadata": {},
   "source": [
    "Using GradientBosstingClassifier model from sklearn for the prediction purpose.\n",
    "\n",
    "* we alsoCalculate the accuracy of the model on the training and testing sets and display them\n"
   ]
  },
  {
   "cell_type": "code",
   "execution_count": 13,
   "id": "22d7a85c",
   "metadata": {},
   "outputs": [
    {
     "name": "stdout",
     "output_type": "stream",
     "text": [
      "The Train data accuracy by our model is :  0.7279890892559479\n",
      "Test Test data accuracy by our model is :  0.6915909090909091\n"
     ]
    }
   ],
   "source": [
    "from sklearn.model_selection import train_test_split\n",
    "from sklearn.ensemble import GradientBoostingClassifier\n",
    "from sklearn.metrics import accuracy_score\n",
    "from sklearn.utils import class_weight\n",
    "\n",
    "\n",
    "X_train, X_test, y_train, y_test = train_test_split(X_attribute, y_attribute, test_size=0.4, random_state=42)\n",
    "\n",
    "\n",
    "weights_for_class = class_weight.compute_sample_weight('balanced', y_train)\n",
    "\n",
    "gradient_boost_model = GradientBoostingClassifier(\n",
    "    n_estimators=500,\n",
    "    learning_rate=0.05,\n",
    "    max_depth=3,\n",
    "    min_samples_split=2,\n",
    "    min_samples_leaf=1,\n",
    "    max_features=None,\n",
    "    subsample=1.0,\n",
    "    random_state=42\n",
    ")\n",
    "\n",
    "\n",
    "gradient_boost_model.fit(X_train, y_train, sample_weight= weights_for_class)\n",
    "\n",
    "\n",
    "y_train_data_prediction_gbc = gradient_boost_model.predict(X_train)\n",
    "y_test_data_prediction_gbc = gradient_boost_model.predict(X_test)\n",
    "\n",
    "train_data_acc = accuracy_score(y_train, y_train_data_prediction_gbc)\n",
    "test_data_acc = accuracy_score(y_test, y_test_data_prediction_gbc)\n",
    "print('The Train data accuracy by our model is : ', train_data_acc)\n",
    "print('Test Test data accuracy by our model is : ', test_data_acc)"
   ]
  },
  {
   "cell_type": "markdown",
   "id": "d9116e37",
   "metadata": {},
   "source": [
    "We generate the classification report for the Gradient boost model"
   ]
  },
  {
   "cell_type": "code",
   "execution_count": 37,
   "id": "37ca64a1",
   "metadata": {},
   "outputs": [
    {
     "name": "stdout",
     "output_type": "stream",
     "text": [
      "              precision    recall  f1-score   support\n",
      "\n",
      "           0       0.57      0.93      0.71      1738\n",
      "           1       0.93      0.53      0.68      2662\n",
      "\n",
      "    accuracy                           0.69      4400\n",
      "   macro avg       0.75      0.73      0.69      4400\n",
      "weighted avg       0.78      0.69      0.69      4400\n",
      "\n"
     ]
    }
   ],
   "source": [
    "from sklearn.metrics import classification_report\n",
    "\n",
    "print(classification_report(y_test,y_test_pred_gbc))"
   ]
  },
  {
   "cell_type": "code",
   "execution_count": null,
   "id": "45cac57c",
   "metadata": {},
   "outputs": [],
   "source": [
    "\n",
    "\n",
    "\n"
   ]
  },
  {
   "cell_type": "code",
   "execution_count": null,
   "id": "1593c02b",
   "metadata": {},
   "outputs": [],
   "source": []
  }
 ],
 "metadata": {
  "kernelspec": {
   "display_name": "Python 3 (ipykernel)",
   "language": "python",
   "name": "python3"
  },
  "language_info": {
   "codemirror_mode": {
    "name": "ipython",
    "version": 3
   },
   "file_extension": ".py",
   "mimetype": "text/x-python",
   "name": "python",
   "nbconvert_exporter": "python",
   "pygments_lexer": "ipython3",
   "version": "3.9.13"
  }
 },
 "nbformat": 4,
 "nbformat_minor": 5
}
